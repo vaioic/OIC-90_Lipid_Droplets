{
 "cells": [
  {
   "cell_type": "code",
   "execution_count": 19,
   "id": "172d9600-dc54-42c6-8a3c-ff98d526fb07",
   "metadata": {},
   "outputs": [],
   "source": [
    "import numpy as np\n",
    "import skimage as sk\n",
    "import os\n",
    "import imageio.v2 as imageio\n",
    "from imageio.v2 import imread\n",
    "import pandas as pd"
   ]
  },
  {
   "cell_type": "code",
   "execution_count": 2,
   "id": "d672864f-5377-4547-8e7b-6f883ce9a06d",
   "metadata": {},
   "outputs": [],
   "source": [
    "nuclei_path = 'E:/Lien_Lab/Sam/OIC-40_Lipid_Droplet/TIFFs_Split_Channels/CH3_DAPI_Masks'\n",
    "nuclei_imgs = os.listdir(nuclei_path)\n",
    "lipid_path = 'E:/Lien_Lab/Sam/OIC-40_Lipid_Droplet/TIFFs_Split_Channels/Lipid_Predictions'\n",
    "lipid_imgs = os.listdir(lipid_path)"
   ]
  },
  {
   "cell_type": "code",
   "execution_count": 51,
   "id": "06d12726-3938-4933-8357-9b587be65469",
   "metadata": {},
   "outputs": [],
   "source": [
    "for i in range(len(nuclei_imgs)):\n",
    "    img = imread(os.path.join(nuclei_path, nuclei_imgs[i]))\n",
    "    label_img = sk.measure.label(img, connectivity = img.ndim)\n",
    "    props = sk.measure.regionprops_table(label_img, properties = ['label','area'])\n",
    "    data = pd.DataFrame(props)\n",
    "    filtered_nuc = data[data['area']>20000]\n",
    "    filtered_nuc.to_csv('E:/Lien_Lab/Sam/OIC-40_Lipid_Droplet/TIFFs_Split_Channels/Quants/'+nuclei_imgs[i][:-4]+'_nuclei_measurements.csv')\n",
    "\n",
    "for i in range(len(lipid_imgs)):\n",
    "    img = imread(os.path.join(lipid_path, lipid_imgs[i]))\n",
    "    label_img = sk.measure.label(img, connectivity = img.ndim)\n",
    "    props = sk.measure.regionprops_table(label_img, properties = ['label','area'])\n",
    "    data = pd.DataFrame(props)\n",
    "    data.to_csv('E:/Lien_Lab/Sam/OIC-40_Lipid_Droplet/TIFFs_Split_Channels/Quants/'+lipid_imgs[i][:-4]+'_lipid_measurements.csv')"
   ]
  }
 ],
 "metadata": {
  "kernelspec": {
   "display_name": "Python 3 (ipykernel)",
   "language": "python",
   "name": "python3"
  },
  "language_info": {
   "codemirror_mode": {
    "name": "ipython",
    "version": 3
   },
   "file_extension": ".py",
   "mimetype": "text/x-python",
   "name": "python",
   "nbconvert_exporter": "python",
   "pygments_lexer": "ipython3",
   "version": "3.8.18"
  }
 },
 "nbformat": 4,
 "nbformat_minor": 5
}
