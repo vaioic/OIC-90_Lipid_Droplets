{
 "cells": [
  {
   "cell_type": "code",
   "execution_count": null,
   "id": "5614f5cf-4431-4c4a-a37e-333d27ac7201",
   "metadata": {},
   "outputs": [],
   "source": [
    "import numpy as np\n",
    "import matplotlib.pyplot as plt\n",
    "from cellpose import models, io, utils\n",
    "from cellpose.io import imread\n",
    "import imageio.v2 as imageio\n",
    "from imageio.v2 import imread\n",
    "import skimage as sk\n",
    "import napari\n",
    "import pandas as pd\n",
    "import os"
   ]
  },
  {
   "cell_type": "code",
   "execution_count": null,
   "id": "6a550748-0ef0-4427-8409-0dbe8df74840",
   "metadata": {},
   "outputs": [],
   "source": [
    "img_path = 'E:/Lien_Lab/Sam/OIC-40_Lipid_Droplet/TIFFs_Split_Channels/CH3_DAPI'\n",
    "imgs = os.listdir(img_path)\n",
    "np_imgs = []\n",
    "for i in range(len(imgs)):\n",
    "    img = imread(os.path.join(img_path, imgs[i]))\n",
    "    np_img = np.asarray(img, dtype=np.float32)\n",
    "    np_img_gaus = sk.filters.gaussian(np_img, sigma=2)\n",
    "    np_imgs.append(np_img_gaus)\n",
    "print(\"Done creating arrays\")"
   ]
  },
  {
   "cell_type": "code",
   "execution_count": null,
   "id": "d0a3c9a4-9f0b-4c8e-84cb-e69a0f33d11f",
   "metadata": {},
   "outputs": [],
   "source": [
    "# masks, flows, styles, diams = model.eval(np_imgs, diameter=120, channels=[0,0],\n",
    "#                                          flow_threshold=0.4, do_3D=True)\n",
    "# io.masks_flows_to_seg(imgs, masks, flows, diams, files, channels)\n",
    "# io.save_to_png(imgs, masks, flows, files)\n",
    "io.logger_setup()\n",
    "model = models.Cellpose(gpu=True,model_type='cyto3') # model_type='cyto' or 'nuclei' or 'cyto2' or 'cyto3'\n",
    "channels =[[0,0]]\n",
    "masks, flows, styles, diams = model.eval(np_imgs, diameter=120, channels=channels,\n",
    "                                         flow_threshold=0.4, do_3D=True)\n",
    "save = 'E:/Lien_Lab/Sam/OIC-40_Lipid_Droplet/TIFFs_Split_Channels/CH3_DAPI_Masks/'\n",
    "for i in range(len(masks)):\n",
    "    sk.io.imsave(os.path.join(save,imgs[i][:-4]+'_mask.tif'),masks[i])\n",
    "print('Done creating CP masks')"
   ]
  },
  {
   "cell_type": "code",
   "execution_count": null,
   "id": "27fa22fc-cb11-4ae0-a721-9d3f4b699ec3",
   "metadata": {},
   "outputs": [],
   "source": [
    "viewer = napari.view_image(masks[1], name= 'masks')"
   ]
  },
  {
   "cell_type": "code",
   "execution_count": null,
   "id": "2ef4f9ea-ed7a-4eaa-9d15-ce602258e487",
   "metadata": {},
   "outputs": [],
   "source": [
    "viewer.add_image(np_imgs[1], name = 'img')"
   ]
  },
  {
   "cell_type": "code",
   "execution_count": null,
   "id": "bdf16980-53a2-4c65-9921-a8996d9bf17d",
   "metadata": {},
   "outputs": [],
   "source": []
  }
 ],
 "metadata": {
  "kernelspec": {
   "display_name": "Python 3 (ipykernel)",
   "language": "python",
   "name": "python3"
  },
  "language_info": {
   "codemirror_mode": {
    "name": "ipython",
    "version": 3
   },
   "file_extension": ".py",
   "mimetype": "text/x-python",
   "name": "python",
   "nbconvert_exporter": "python",
   "pygments_lexer": "ipython3",
   "version": "3.8.18"
  }
 },
 "nbformat": 4,
 "nbformat_minor": 5
}
