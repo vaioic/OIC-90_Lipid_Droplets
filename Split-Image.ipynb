{
 "cells": [
  {
   "cell_type": "code",
   "execution_count": null,
   "id": "4e1afdc7",
   "metadata": {},
   "outputs": [],
   "source": [
    "#This script is for reading in 3D images and coresponding label images, unstacking themby Z and then splitting the images into the specified number of slices by X and Y\n",
    "#Then the patches are screened for if a label is present, only matching images and masks are saved."
   ]
  },
  {
   "cell_type": "code",
   "execution_count": 6,
   "id": "25902f1f-edf2-49f3-aa9a-b788c3bf16a7",
   "metadata": {},
   "outputs": [],
   "source": [
    "import numpy as np\n",
    "import napari\n",
    "from tifffile import imread\n",
    "from tifffile import imwrite\n",
    "from glob import glob\n"
   ]
  },
  {
   "cell_type": "code",
   "execution_count": 26,
   "id": "cfa83df3-ed7a-4178-92fc-96a9ffc31bd0",
   "metadata": {},
   "outputs": [],
   "source": [
    "mask_patches = []\n",
    "img_patches = []\n",
    "def arraysplit(img,patches_list,vsplit=3,hsplit=6):\n",
    "    split = []\n",
    "    img = imread(img)\n",
    "    array = np.asarray(img)\n",
    "    array = np.transpose(img, [2,1,0])\n",
    "    unstacked = np.unstack(array, axis=-1)\n",
    "    for s in unstacked:\n",
    "        sarray = np.array_split(s,vsplit,axis=0)\n",
    "        for p in sarray:\n",
    "            split.append(p)\n",
    "    for a in split:\n",
    "        sa= np.array_split(a,hsplit,axis=-1)\n",
    "        for b in sa:\n",
    "           patches_list.append(b)"
   ]
  },
  {
   "cell_type": "code",
   "execution_count": 27,
   "id": "454cdc93-578f-4ff2-aadc-d850a1e5a594",
   "metadata": {},
   "outputs": [],
   "source": [
    "def filterdata(mask_patches,img_patches,save_path_masks,save_path_imgs):\n",
    "    for i in range(len(mask_patches)):\n",
    "        if np.max(mask_patches[i]) > 0:\n",
    "            imwrite(save_path_masks+'img_'+str(i)+'.tif', mask_patches[i])\n",
    "            imwrite(save_path_imgs+'img_'+str(i)+'.tif', img_patches[i])\n",
    "        else:\n",
    "            continue"
   ]
  },
  {
   "cell_type": "code",
   "execution_count": null,
   "id": "e2de77fe-369c-4592-a805-8aa940e55eee",
   "metadata": {},
   "outputs": [],
   "source": [
    "imgs = sorted(glob('Path/to/images/*.tif'))\n",
    "masks = sorted(glob('Path/to/masks/*.tif'))\n",
    "save_path_masks = 'Path/to/save/Masks/'\n",
    "save_path_imgs = 'Path/to/save/Images/'"
   ]
  },
  {
   "cell_type": "code",
   "execution_count": null,
   "id": "ece60ae5-d8a1-471f-942f-50ef94d87885",
   "metadata": {},
   "outputs": [
    {
     "name": "stdout",
     "output_type": "stream",
     "text": [
      "12204\n",
      "12204\n"
     ]
    }
   ],
   "source": [
    "for i in range(len(imgs)):\n",
    "    arraysplit(imgs[i], img_patches)\n",
    "    arraysplit(masks[i], mask_patches)\n",
    "\n",
    "#Check that the same number of patches were generated\n",
    "print(len(mask_patches))\n",
    "print(len(img_patches))"
   ]
  },
  {
   "cell_type": "code",
   "execution_count": 30,
   "id": "1436bf47-e7cf-4346-be15-b60f555d33ef",
   "metadata": {},
   "outputs": [],
   "source": [
    "filterdata(mask_patches,img_patches,save_path_masks,save_path_imgs)"
   ]
  }
 ],
 "metadata": {
  "kernelspec": {
   "display_name": "Python 3 (ipykernel)",
   "language": "python",
   "name": "python3"
  },
  "language_info": {
   "codemirror_mode": {
    "name": "ipython",
    "version": 3
   },
   "file_extension": ".py",
   "mimetype": "text/x-python",
   "name": "python",
   "nbconvert_exporter": "python",
   "pygments_lexer": "ipython3",
   "version": "3.12.9"
  }
 },
 "nbformat": 4,
 "nbformat_minor": 5
}
