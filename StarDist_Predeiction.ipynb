{
 "cells": [
  {
   "cell_type": "markdown",
   "id": "79402a3b",
   "metadata": {},
   "source": [
    "Used this script to create a starting point for ground truth labels of the lipid droplets"
   ]
  },
  {
   "cell_type": "code",
   "execution_count": 5,
   "id": "e4d7adcf",
   "metadata": {},
   "outputs": [],
   "source": [
    "from __future__ import print_function, unicode_literals, absolute_import, division\n",
    "import sys\n",
    "import numpy as np\n",
    "import matplotlib\n",
    "matplotlib.rcParams[\"image.interpolation\"] = 'none'\n",
    "import matplotlib.pyplot as plt\n",
    "%matplotlib inline\n",
    "%config InlineBackend.figure_format = 'retina'\n",
    "\n",
    "from glob import glob\n",
    "from tifffile import imread\n",
    "from csbdeep.utils import Path, normalize\n",
    "from csbdeep.io import save_tiff_imagej_compatible\n",
    "import skimage as sk\n",
    "import napari\n",
    "import pandas as pd\n",
    "import os\n",
    "from stardist import random_label_cmap\n",
    "from stardist.models import StarDist3D\n",
    "\n",
    "np.random.seed(6)\n",
    "lbl_cmap = random_label_cmap()\n",
    "\n",
    "from bioio import BioImage\n",
    "import napari"
   ]
  },
  {
   "cell_type": "markdown",
   "id": "3912f818",
   "metadata": {},
   "source": [
    "Read in czi files with bioio package, need to run np.squeeze to remove empty dims from czi format"
   ]
  },
  {
   "cell_type": "code",
   "execution_count": 2,
   "id": "ca2563fa",
   "metadata": {},
   "outputs": [],
   "source": [
    "files = sorted(glob('E:/Lien_Lab/Sam/OIC-90_Lipid_Droplet_Cont/AiryScan_20250813/*.czi'))\n",
    "files_bioio = list(map(BioImage,files))"
   ]
  },
  {
   "cell_type": "code",
   "execution_count": 3,
   "id": "f3c6b6e6",
   "metadata": {},
   "outputs": [],
   "source": [
    "imgs_data = [img.data for img in files_bioio]\n",
    "imgs = [np.squeeze(img) for img in imgs_data]"
   ]
  },
  {
   "cell_type": "code",
   "execution_count": 4,
   "id": "672eac91",
   "metadata": {},
   "outputs": [
    {
     "name": "stderr",
     "output_type": "stream",
     "text": [
      "3533987585.py (2): `napari.view_image` is deprecated and will be removed in napari 0.7.0.\n",
      "Use `viewer = napari.Viewer(); viewer.add_image(...)` instead.\n"
     ]
    }
   ],
   "source": [
    "test_img = imgs[1]\n",
    "viewer = napari.view_image(test_img)"
   ]
  },
  {
   "cell_type": "code",
   "execution_count": 6,
   "id": "2c2a7535",
   "metadata": {},
   "outputs": [
    {
     "data": {
      "text/plain": [
       "(3, 34, 1012, 1012)"
      ]
     },
     "execution_count": 6,
     "metadata": {},
     "output_type": "execute_result"
    }
   ],
   "source": [
    "test_img.shape"
   ]
  },
  {
   "cell_type": "code",
   "execution_count": 8,
   "id": "2822da8c",
   "metadata": {},
   "outputs": [],
   "source": [
    "#select ch2 for stardist prediction of lipids\n",
    "ch2 = [img[1,...] for img in imgs]"
   ]
  },
  {
   "cell_type": "markdown",
   "id": "0ef27530",
   "metadata": {},
   "source": [
    "selected model is from training on confocal images, not airyscan, using to get a starting set of labels to work off of"
   ]
  },
  {
   "cell_type": "code",
   "execution_count": 10,
   "id": "636fd14b",
   "metadata": {},
   "outputs": [
    {
     "name": "stdout",
     "output_type": "stream",
     "text": [
      "Loading network weights from 'weights_best.h5'.\n",
      "Loading thresholds from 'thresholds.json'.\n",
      "Using default values: prob_thresh=0.634007, nms_thresh=0.5.\n"
     ]
    }
   ],
   "source": [
    "model = StarDist3D(None,name='stardist',basedir='models')"
   ]
  },
  {
   "cell_type": "code",
   "execution_count": 14,
   "id": "a072e5fd",
   "metadata": {},
   "outputs": [
    {
     "name": "stderr",
     "output_type": "stream",
     "text": [
      "functional.py (238): The structure of `inputs` doesn't match the expected structure.\n",
      "Expected: ['input']\n",
      "Received: inputs=Tensor(shape=(1, None, None, None, 1))\n"
     ]
    },
    {
     "name": "stdout",
     "output_type": "stream",
     "text": [
      "0 of 15 complete\n",
      "1 of 15 complete\n",
      "2 of 15 complete\n",
      "3 of 15 complete\n",
      "4 of 15 complete\n",
      "5 of 15 complete\n",
      "6 of 15 complete\n",
      "7 of 15 complete\n",
      "8 of 15 complete\n",
      "9 of 15 complete\n",
      "10 of 15 complete\n",
      "11 of 15 complete\n",
      "12 of 15 complete\n",
      "13 of 15 complete\n",
      "14 of 15 complete\n"
     ]
    }
   ],
   "source": [
    "all_labels = []\n",
    "for i in range(len(ch2)):\n",
    "    n_channel = 1 if ch2[i].ndim == 3 else ch2[i].shape[-1]\n",
    "    axis_norm = (0,1,2)   # normalize channels independently\n",
    "    if n_channel > 1:\n",
    "        print(\"Normalizing image channels %s.\" % ('jointly' if axis_norm is None or 2 in axis_norm else 'independently'))\n",
    "    img = normalize(ch2[i], 1,99.8, axis=axis_norm)\n",
    "    labels, details = model.predict_instances(img, n_tiles=model._guess_n_tiles(img), show_tile_progress=False)\n",
    "    all_labels.append(labels)\n",
    "    #save_tiff_imagej_compatible(path+names[i][:-4]+\"_labels.tif\", labels, axes='ZYX')\n",
    "    print(str(i)+\" of \"+str(len(imgs))+\" complete\")"
   ]
  },
  {
   "cell_type": "markdown",
   "id": "277c06a3",
   "metadata": {},
   "source": [
    "Looked at the labels with Napari, saw that there are many false detections of dim signal. Used filtering with `sk.measure.regionprops` to remove objects with dimmer intensity values."
   ]
  },
  {
   "cell_type": "code",
   "execution_count": 90,
   "id": "cff9cc60",
   "metadata": {},
   "outputs": [
    {
     "name": "stderr",
     "output_type": "stream",
     "text": [
      "2205584405.py (4): `napari.view_image` is deprecated and will be removed in napari 0.7.0.\n",
      "Use `viewer = napari.Viewer(); viewer.add_image(...)` instead.\n"
     ]
    },
    {
     "data": {
      "text/plain": [
       "<Labels layer 'test_mask' at 0x2ba1dbf55b0>"
      ]
     },
     "execution_count": 90,
     "metadata": {},
     "output_type": "execute_result"
    }
   ],
   "source": [
    "voxel = [0.5,0.13,0.13]\n",
    "test_img = ch2[0]\n",
    "test_mask = all_labels[0]\n",
    "viewer = napari.view_image(test_img,scale=voxel)\n",
    "viewer.add_labels(test_mask,scale=voxel)"
   ]
  },
  {
   "cell_type": "code",
   "execution_count": 91,
   "id": "37261b1d",
   "metadata": {},
   "outputs": [],
   "source": [
    "#clean up labels to keep brighter spots\n",
    "props = sk.measure.regionprops_table(test_mask,test_img,properties=('label','intensity_mean'))\n",
    "df = pd.DataFrame.from_dict(props)"
   ]
  },
  {
   "cell_type": "markdown",
   "id": "c9c85c8e",
   "metadata": {},
   "source": [
    "Plotting histogram of the intensity_mean of each object to find a potential threshold for removing dimmer detections."
   ]
  },
  {
   "cell_type": "code",
   "execution_count": 92,
   "id": "78f7b7d2",
   "metadata": {},
   "outputs": [
    {
     "data": {
      "image/png": "[encoded data removed]",
      "text/plain": [
       "<Figure size 500x600 with 1 Axes>"
      ]
     },
     "metadata": {
      "image/png": {
       "height": 505,
       "width": 452
      }
     },
     "output_type": "display_data"
    }
   ],
   "source": [
    "fig = plt.figure(figsize=(5,6))\n",
    "plt.hist(x=df['intensity_mean'],bins=50)\n",
    "plt.show()"
   ]
  },
  {
   "cell_type": "markdown",
   "id": "baccacc8",
   "metadata": {},
   "source": [
    "Set up loop to filter dim objects and save Ch2 and final masks as tiffs."
   ]
  },
  {
   "cell_type": "code",
   "execution_count": 106,
   "id": "7477ab94",
   "metadata": {},
   "outputs": [
    {
     "name": "stderr",
     "output_type": "stream",
     "text": [
      "__init__.py (43): Converting data type from 'int32' to ImageJ-compatible 'int16'.\n"
     ]
    }
   ],
   "source": [
    "img_save_loc = \"../Tiffs/\"\n",
    "mask_save_loc = \"../Masks/\"\n",
    "for i in range(len(ch2)):\n",
    "    img = ch2[i]\n",
    "    mask = all_labels[i]\n",
    "    save_tiff_imagej_compatible(os.path.join(img_save_loc,\"img_0\"+str(i)+'.tiff'),img, axes='ZYX')\n",
    "    reg_props = sk.measure.regionprops(mask,img)\n",
    "    labels_to_remove = []\n",
    "    for prop in reg_props:\n",
    "        if not (prop.intensity_mean > 1000):\n",
    "            labels_to_remove.append(prop.label)\n",
    "    mask[np.isin(mask,labels_to_remove)] = 0\n",
    "    save_tiff_imagej_compatible(os.path.join(mask_save_loc,'mask_0'+str(i)+'.tiff'),mask, axes='ZYX')"
   ]
  },
  {
   "cell_type": "code",
   "execution_count": null,
   "id": "11c6ab36",
   "metadata": {},
   "outputs": [],
   "source": []
  }
 ],
 "metadata": {
  "kernelspec": {
   "display_name": "Python 3",
   "language": "python",
   "name": "python3"
  },
  "language_info": {
   "codemirror_mode": {
    "name": "ipython",
    "version": 3
   },
   "file_extension": ".py",
   "mimetype": "text/x-python",
   "name": "python",
   "nbconvert_exporter": "python",
   "pygments_lexer": "ipython3",
   "version": "3.12.9"
  }
 },
 "nbformat": 4,
 "nbformat_minor": 5
}
